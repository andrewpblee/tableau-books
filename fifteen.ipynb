{
 "cells": [
  {
   "cell_type": "code",
   "execution_count": 2,
   "metadata": {},
   "outputs": [
    {
     "name": "stdout",
     "output_type": "stream",
     "text": [
      "1016\n",
      "1036\n",
      "1056\n",
      "1076\n",
      "1096\n",
      "1116\n",
      "1136\n",
      "1156\n",
      "1176\n",
      "1196\n",
      "1216\n",
      "1236\n",
      "1256\n",
      "1276\n",
      "1296\n",
      "1316\n",
      "1336\n",
      "1356\n",
      "1376\n",
      "1396\n",
      "1416\n",
      "1436\n",
      "1456\n",
      "1476\n",
      "1496\n",
      "1516\n",
      "1536\n",
      "1556\n",
      "1576\n",
      "1596\n",
      "1616\n",
      "1636\n",
      "1656\n",
      "1676\n",
      "1696\n",
      "1716\n",
      "1736\n",
      "1756\n",
      "1776\n",
      "1796\n",
      "1816\n",
      "1836\n",
      "1856\n",
      "1876\n",
      "1896\n",
      "1916\n",
      "1936\n",
      "1956\n",
      "1976\n"
     ]
    }
   ],
   "source": [
    "for x in range(1016,1996, 20):\n",
    "    print(x)"
   ]
  },
  {
   "cell_type": "code",
   "execution_count": null,
   "metadata": {},
   "outputs": [],
   "source": []
  }
 ],
 "metadata": {
  "kernelspec": {
   "display_name": "Python 3",
   "language": "python",
   "name": "python3"
  },
  "language_info": {
   "codemirror_mode": {
    "name": "ipython",
    "version": 3
   },
   "file_extension": ".py",
   "mimetype": "text/x-python",
   "name": "python",
   "nbconvert_exporter": "python",
   "pygments_lexer": "ipython3",
   "version": "3.7.3"
  }
 },
 "nbformat": 4,
 "nbformat_minor": 2
}
