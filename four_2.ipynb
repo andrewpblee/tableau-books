{
 "cells": [
  {
   "cell_type": "code",
   "execution_count": 11,
   "metadata": {},
   "outputs": [],
   "source": [
    "from bs4 import BeautifulSoup\n",
    "import requests\n",
    "import re"
   ]
  },
  {
   "cell_type": "code",
   "execution_count": 2,
   "metadata": {},
   "outputs": [],
   "source": [
    "start_url = 'http://www.pythonchallenge.com/pc/def/linkedlist.php?nothing=12345'"
   ]
  },
  {
   "cell_type": "code",
   "execution_count": 128,
   "metadata": {},
   "outputs": [],
   "source": [
    "def nothing(blob):\n",
    "        soup = BeautifulSoup(blob, 'html.parser')\n",
    "        nothing = re.findall(r'[0-9]{2,}$',str(soup))[0]\n",
    "        return 'http://www.pythonchallenge.com/pc/def/linkedlist.php?nothing=' + nothing\n"
   ]
  },
  {
   "cell_type": "code",
   "execution_count": null,
   "metadata": {},
   "outputs": [
    {
     "name": "stdout",
     "output_type": "stream",
     "text": [
      "http://www.pythonchallenge.com/pc/def/linkedlist.php?nothing=9297\n",
      "http://www.pythonchallenge.com/pc/def/linkedlist.php?nothing=30571\n",
      "http://www.pythonchallenge.com/pc/def/linkedlist.php?nothing=7414\n",
      "http://www.pythonchallenge.com/pc/def/linkedlist.php?nothing=30978\n",
      "http://www.pythonchallenge.com/pc/def/linkedlist.php?nothing=16408\n",
      "http://www.pythonchallenge.com/pc/def/linkedlist.php?nothing=80109\n",
      "http://www.pythonchallenge.com/pc/def/linkedlist.php?nothing=55736\n",
      "http://www.pythonchallenge.com/pc/def/linkedlist.php?nothing=15357\n",
      "http://www.pythonchallenge.com/pc/def/linkedlist.php?nothing=80887\n",
      "http://www.pythonchallenge.com/pc/def/linkedlist.php?nothing=35014\n",
      "http://www.pythonchallenge.com/pc/def/linkedlist.php?nothing=16523\n",
      "http://www.pythonchallenge.com/pc/def/linkedlist.php?nothing=50286\n",
      "http://www.pythonchallenge.com/pc/def/linkedlist.php?nothing=34813\n",
      "http://www.pythonchallenge.com/pc/def/linkedlist.php?nothing=77562\n",
      "http://www.pythonchallenge.com/pc/def/linkedlist.php?nothing=54746\n",
      "http://www.pythonchallenge.com/pc/def/linkedlist.php?nothing=22680\n",
      "http://www.pythonchallenge.com/pc/def/linkedlist.php?nothing=19705\n",
      "http://www.pythonchallenge.com/pc/def/linkedlist.php?nothing=77000\n",
      "http://www.pythonchallenge.com/pc/def/linkedlist.php?nothing=27634\n",
      "http://www.pythonchallenge.com/pc/def/linkedlist.php?nothing=21008\n",
      "http://www.pythonchallenge.com/pc/def/linkedlist.php?nothing=64994\n",
      "http://www.pythonchallenge.com/pc/def/linkedlist.php?nothing=66109\n",
      "http://www.pythonchallenge.com/pc/def/linkedlist.php?nothing=37855\n",
      "http://www.pythonchallenge.com/pc/def/linkedlist.php?nothing=36383\n",
      "http://www.pythonchallenge.com/pc/def/linkedlist.php?nothing=68548\n",
      "http://www.pythonchallenge.com/pc/def/linkedlist.php?nothing=96070\n",
      "http://www.pythonchallenge.com/pc/def/linkedlist.php?nothing=83051\n",
      "http://www.pythonchallenge.com/pc/def/linkedlist.php?nothing=58026\n",
      "http://www.pythonchallenge.com/pc/def/linkedlist.php?nothing=44726\n",
      "http://www.pythonchallenge.com/pc/def/linkedlist.php?nothing=35748\n",
      "http://www.pythonchallenge.com/pc/def/linkedlist.php?nothing=61287\n",
      "http://www.pythonchallenge.com/pc/def/linkedlist.php?nothing=559\n",
      "http://www.pythonchallenge.com/pc/def/linkedlist.php?nothing=81318\n",
      "http://www.pythonchallenge.com/pc/def/linkedlist.php?nothing=50443\n",
      "http://www.pythonchallenge.com/pc/def/linkedlist.php?nothing=1570\n",
      "http://www.pythonchallenge.com/pc/def/linkedlist.php?nothing=75244\n",
      "http://www.pythonchallenge.com/pc/def/linkedlist.php?nothing=56265\n",
      "http://www.pythonchallenge.com/pc/def/linkedlist.php?nothing=17694\n",
      "http://www.pythonchallenge.com/pc/def/linkedlist.php?nothing=48033\n",
      "http://www.pythonchallenge.com/pc/def/linkedlist.php?nothing=56523\n",
      "http://www.pythonchallenge.com/pc/def/linkedlist.php?nothing=51253\n",
      "http://www.pythonchallenge.com/pc/def/linkedlist.php?nothing=85750\n",
      "http://www.pythonchallenge.com/pc/def/linkedlist.php?nothing=42760\n",
      "http://www.pythonchallenge.com/pc/def/linkedlist.php?nothing=11877\n",
      "http://www.pythonchallenge.com/pc/def/linkedlist.php?nothing=15962\n",
      "http://www.pythonchallenge.com/pc/def/linkedlist.php?nothing=75494\n",
      "http://www.pythonchallenge.com/pc/def/linkedlist.php?nothing=87283\n",
      "http://www.pythonchallenge.com/pc/def/linkedlist.php?nothing=40396\n",
      "http://www.pythonchallenge.com/pc/def/linkedlist.php?nothing=49574\n",
      "http://www.pythonchallenge.com/pc/def/linkedlist.php?nothing=82682\n",
      "http://www.pythonchallenge.com/pc/def/linkedlist.php?nothing=63579\n",
      "http://www.pythonchallenge.com/pc/def/linkedlist.php?nothing=37278\n",
      "http://www.pythonchallenge.com/pc/def/linkedlist.php?nothing=53548\n",
      "http://www.pythonchallenge.com/pc/def/linkedlist.php?nothing=66081\n",
      "http://www.pythonchallenge.com/pc/def/linkedlist.php?nothing=67753\n",
      "http://www.pythonchallenge.com/pc/def/linkedlist.php?nothing=56337\n",
      "http://www.pythonchallenge.com/pc/def/linkedlist.php?nothing=3356\n",
      "http://www.pythonchallenge.com/pc/def/linkedlist.php?nothing=94525\n",
      "http://www.pythonchallenge.com/pc/def/linkedlist.php?nothing=89574\n",
      "http://www.pythonchallenge.com/pc/def/linkedlist.php?nothing=4413\n",
      "http://www.pythonchallenge.com/pc/def/linkedlist.php?nothing=82294\n",
      "http://www.pythonchallenge.com/pc/def/linkedlist.php?nothing=56060\n",
      "http://www.pythonchallenge.com/pc/def/linkedlist.php?nothing=95493\n",
      "http://www.pythonchallenge.com/pc/def/linkedlist.php?nothing=80865\n",
      "http://www.pythonchallenge.com/pc/def/linkedlist.php?nothing=66242\n",
      "http://www.pythonchallenge.com/pc/def/linkedlist.php?nothing=16065\n",
      "http://www.pythonchallenge.com/pc/def/linkedlist.php?nothing=62145\n",
      "http://www.pythonchallenge.com/pc/def/linkedlist.php?nothing=23147\n",
      "http://www.pythonchallenge.com/pc/def/linkedlist.php?nothing=83763\n",
      "http://www.pythonchallenge.com/pc/def/linkedlist.php?nothing=62381\n",
      "http://www.pythonchallenge.com/pc/def/linkedlist.php?nothing=76841\n",
      "http://www.pythonchallenge.com/pc/def/linkedlist.php?nothing=91706\n",
      "http://www.pythonchallenge.com/pc/def/linkedlist.php?nothing=9268\n",
      "http://www.pythonchallenge.com/pc/def/linkedlist.php?nothing=64814\n",
      "http://www.pythonchallenge.com/pc/def/linkedlist.php?nothing=80809\n",
      "http://www.pythonchallenge.com/pc/def/linkedlist.php?nothing=14039\n",
      "http://www.pythonchallenge.com/pc/def/linkedlist.php?nothing=73355\n",
      "http://www.pythonchallenge.com/pc/def/linkedlist.php?nothing=81905\n",
      "http://www.pythonchallenge.com/pc/def/linkedlist.php?nothing=36402\n",
      "http://www.pythonchallenge.com/pc/def/linkedlist.php?nothing=27221\n",
      "http://www.pythonchallenge.com/pc/def/linkedlist.php?nothing=79607\n",
      "http://www.pythonchallenge.com/pc/def/linkedlist.php?nothing=91763\n",
      "http://www.pythonchallenge.com/pc/def/linkedlist.php?nothing=11631\n",
      "http://www.pythonchallenge.com/pc/def/linkedlist.php?nothing=76396\n",
      "http://www.pythonchallenge.com/pc/def/linkedlist.php?nothing=69905\n",
      "http://www.pythonchallenge.com/pc/def/linkedlist.php?nothing=11073\n",
      "http://www.pythonchallenge.com/pc/def/linkedlist.php?nothing=71281\n",
      "http://www.pythonchallenge.com/pc/def/linkedlist.php?nothing=54345\n",
      "http://www.pythonchallenge.com/pc/def/linkedlist.php?nothing=19047\n",
      "http://www.pythonchallenge.com/pc/def/linkedlist.php?nothing=34376\n",
      "http://www.pythonchallenge.com/pc/def/linkedlist.php?nothing=3193\n",
      "http://www.pythonchallenge.com/pc/def/linkedlist.php?nothing=74258\n",
      "http://www.pythonchallenge.com/pc/def/linkedlist.php?nothing=62712\n",
      "http://www.pythonchallenge.com/pc/def/linkedlist.php?nothing=1823\n",
      "http://www.pythonchallenge.com/pc/def/linkedlist.php?nothing=21232\n",
      "http://www.pythonchallenge.com/pc/def/linkedlist.php?nothing=87890\n",
      "http://www.pythonchallenge.com/pc/def/linkedlist.php?nothing=21545\n",
      "http://www.pythonchallenge.com/pc/def/linkedlist.php?nothing=37136\n"
     ]
    }
   ],
   "source": [
    "x = 'http://www.pythonchallenge.com/pc/def/linkedlist.php?nothing=50290'\n",
    "while True:\n",
    "    page = requests.get(x)\n",
    "    url = nothing(page.content)\n",
    "    x = url\n",
    "    print(x)\n"
   ]
  },
  {
   "cell_type": "code",
   "execution_count": null,
   "metadata": {},
   "outputs": [],
   "source": []
  }
 ],
 "metadata": {
  "kernelspec": {
   "display_name": "Python 3",
   "language": "python",
   "name": "python3"
  },
  "language_info": {
   "codemirror_mode": {
    "name": "ipython",
    "version": 3
   },
   "file_extension": ".py",
   "mimetype": "text/x-python",
   "name": "python",
   "nbconvert_exporter": "python",
   "pygments_lexer": "ipython3",
   "version": "3.7.3"
  }
 },
 "nbformat": 4,
 "nbformat_minor": 2
}
